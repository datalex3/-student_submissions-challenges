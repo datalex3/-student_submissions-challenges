{
 "cells": [
  {
   "cell_type": "markdown",
   "metadata": {},
   "source": [
    "/*Which customers are from the UK?*/\n",
    "\n",
    "select customername from customers\n",
    "where country = 'UK';\n",
    "\n",
    "Result:\n",
    "Number of Records: 7\n",
    "CustomerName\n",
    "Around the Horn\n",
    "B's Beverages\n",
    "Consolidated Holdings\n",
    "Eastern Connection\n",
    "Island Trading\n",
    "North/South\n",
    "Seven Seas Imports"
   ]
  },
  {
   "cell_type": "markdown",
   "metadata": {},
   "source": [
    "/*What is the name of the customer who has the most orders?*/\n",
    "\n",
    "SELECT customername, Count(*) AS CountVal FROM orders\n",
    "JOIN customers ON customers.customerid = orders.customerid\n",
    "GROUP BY customername\n",
    "ORDER BY CountVal DESC\n",
    "LIMIT(1)\n",
    "\n",
    "Result:\n",
    "Number of Records: 1\n",
    "CustomerName\tCountVal\n",
    "Ernst Handel\t10"
   ]
  },
  {
   "cell_type": "markdown",
   "metadata": {},
   "source": [
    "/*Which supplier has the highest average product price?*/\n",
    "\n",
    "SELECT suppliername, avg(price) AS averagePrice FROM suppliers\n",
    "JOIN products ON Products.supplierid = suppliers.supplierid\n",
    "GROUP BY suppliername\n",
    "ORDER BY averageprice desc\n",
    "LIMIT(1)\n",
    "\n",
    "Result:\n",
    "Number of Records: 1\n",
    "SupplierName\taveragePrice\n",
    "Aux joyeux ecclésiastiques\t140.75"
   ]
  },
  {
   "cell_type": "markdown",
   "metadata": {},
   "source": [
    "/*How many different countries are all the customers from? (Hint: consider DISTINCT.)*/\n",
    "\n",
    "select count(distinct country) from customers\n",
    "\n",
    "Result:\n",
    "Number of Records: 1\n",
    "count(distinct country)\n",
    "21"
   ]
  },
  {
   "cell_type": "markdown",
   "metadata": {},
   "source": [
    "/*What category appears in the most orders?*/\n",
    "\n",
    "SELECT CategoryName, count(*) as countval FROM products\n",
    "JOIN Categories ON Products.CategoryID = Categories.CategoryID\n",
    "join orderdetails on products.productid = orderdetails.productid\n",
    "GROUP BY CategoryName\n",
    "ORDER BY CountVal DESC\n",
    "limit(1);\n",
    "\n",
    "Result:\n",
    "Number of Records: 1\n",
    "CategoryName\tcountval\n",
    "Dairy Products\t100"
   ]
  },
  {
   "cell_type": "markdown",
   "metadata": {},
   "source": [
    "/*What was the total cost for each order?*/\n",
    "\n",
    "select orders.orderid ,quantity*price as totalcost from orders \n",
    "join orderdetails on orderdetails.orderid = orders.orderid join\n",
    "products on products.productid = orderdetails.productid\n",
    "group by orders.orderid\n",
    "limit(5)\n",
    "\n",
    "Result:\n",
    "Number of Records: 5\n",
    "OrderID\ttotalcost\n",
    "10248\t174\n",
    "10249\t2120\n",
    "10250\t315.75\n",
    "10251\t421\n",
    "10252\t1360\n"
   ]
  },
  {
   "cell_type": "markdown",
   "metadata": {},
   "source": [
    "/*Which employee made the most sales (by total cost)?*/\n",
    "\n",
    "select employees.employeeid,lastname,firstname, quantity*price as totalcost from employees\n",
    "join orders on orders.employeeid = employees.employeeid\n",
    "join orderdetails on orderdetails.orderid = orders.orderid\n",
    "join products on products.productid = orderdetails.productid\n",
    "group by employees.employeeid \n",
    "\n",
    "Result:\n",
    "Number of Records: 9\n",
    "EmployeeID\tLastName\tFirstName\ttotalcost\n",
    "1\tDavolio\tNancy\t500\n",
    "2\tFuller\tAndrew\t62.46\n",
    "3\tLeverling\tJanet\t1020\n",
    "4\tPeacock\tMargaret\t2565\n",
    "5\tBuchanan\tSteven\t954\n",
    "6\tSuyama\tMichael\t300\n",
    "7\tKing\tRobert\t240\n",
    "8\tCallahan\tLaura\t547.2\n",
    "9\tDodsworth\tAnne\t495"
   ]
  },
  {
   "cell_type": "markdown",
   "metadata": {},
   "source": [
    "/*Which employees have BS degrees? (Hint: look at the LIKE operator.)*/\n",
    "\n",
    "select * from employees\n",
    "where notes  LIKE '%bs%'\n",
    "\n",
    "Result:\n",
    "Number of Records: 2\n",
    "\tLastName\tFirstName\tBirthDate\tPhoto\tNotes\n",
    "3\tLeverling\tJanet\t1963-08-30\tEmpID3.pic\n",
    "5\tBuchanan\tSteven\t1955-03-04\tEmpID5.pic"
   ]
  },
  {
   "cell_type": "markdown",
   "metadata": {},
   "source": [
    "/*Which supplier of three or more products has the highest average product price? (Hint: look at the HAVING operator.)*/\n",
    "\n",
    "select suppliername , avg(price) as avgPrice, count(productid) as totalProducts from products\n",
    "join suppliers on suppliers.supplierid = products.supplierid\n",
    "group by suppliers.supplierId\n",
    "having count(productid) > 2\n",
    "order by avgPrice desc\n",
    "limit(1)\n",
    "\n",
    "Result:\n",
    "Number of Records: 1\n",
    "SupplierName\tavgPrice\ttotalProducts\n",
    "Tokyo Traders\t 46         3"
   ]
  }
 ],
 "metadata": {
  "kernelspec": {
   "display_name": "Python 3",
   "language": "python",
   "name": "python3"
  },
  "language_info": {
   "codemirror_mode": {
    "name": "ipython",
    "version": 3
   },
   "file_extension": ".py",
   "mimetype": "text/x-python",
   "name": "python",
   "nbconvert_exporter": "python",
   "pygments_lexer": "ipython3",
   "version": "3.6.3"
  }
 },
 "nbformat": 4,
 "nbformat_minor": 2
}
